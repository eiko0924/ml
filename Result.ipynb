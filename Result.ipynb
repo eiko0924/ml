{
 "cells": [
  {
   "cell_type": "code",
   "execution_count": 12,
   "metadata": {},
   "outputs": [],
   "source": [
    "%matplotlib inline\n",
    "import numpy as np\n",
    "import pandas as pd\n",
    "import matplotlib.pyplot as plt"
   ]
  },
  {
   "cell_type": "code",
   "execution_count": 13,
   "metadata": {},
   "outputs": [],
   "source": [
    "df = pd.read_csv('./input.csv')"
   ]
  },
  {
   "cell_type": "code",
   "execution_count": 14,
   "metadata": {},
   "outputs": [
    {
     "data": {
      "text/html": [
       "<div>\n",
       "<style scoped>\n",
       "    .dataframe tbody tr th:only-of-type {\n",
       "        vertical-align: middle;\n",
       "    }\n",
       "\n",
       "    .dataframe tbody tr th {\n",
       "        vertical-align: top;\n",
       "    }\n",
       "\n",
       "    .dataframe thead th {\n",
       "        text-align: right;\n",
       "    }\n",
       "</style>\n",
       "<table border=\"1\" class=\"dataframe\">\n",
       "  <thead>\n",
       "    <tr style=\"text-align: right;\">\n",
       "      <th></th>\n",
       "      <th>ImageId</th>\n",
       "      <th>PinNumber</th>\n",
       "      <th>VisualResultType</th>\n",
       "      <th>Result</th>\n",
       "      <th>logic1</th>\n",
       "      <th>logic2</th>\n",
       "      <th>logic3</th>\n",
       "      <th>logic4</th>\n",
       "      <th>logic5</th>\n",
       "      <th>logic6</th>\n",
       "      <th>logic7</th>\n",
       "      <th>logic8</th>\n",
       "      <th>logic9</th>\n",
       "      <th>logic10</th>\n",
       "    </tr>\n",
       "  </thead>\n",
       "  <tbody>\n",
       "    <tr>\n",
       "      <th>0</th>\n",
       "      <td>1</td>\n",
       "      <td>1</td>\n",
       "      <td>0</td>\n",
       "      <td>0</td>\n",
       "      <td>14</td>\n",
       "      <td>14</td>\n",
       "      <td>36</td>\n",
       "      <td>40</td>\n",
       "      <td>19</td>\n",
       "      <td>9</td>\n",
       "      <td>7</td>\n",
       "      <td>21</td>\n",
       "      <td>35</td>\n",
       "      <td>26</td>\n",
       "    </tr>\n",
       "    <tr>\n",
       "      <th>1</th>\n",
       "      <td>2</td>\n",
       "      <td>2</td>\n",
       "      <td>0</td>\n",
       "      <td>0</td>\n",
       "      <td>62</td>\n",
       "      <td>34</td>\n",
       "      <td>26</td>\n",
       "      <td>27</td>\n",
       "      <td>12</td>\n",
       "      <td>37</td>\n",
       "      <td>27</td>\n",
       "      <td>52</td>\n",
       "      <td>54</td>\n",
       "      <td>33</td>\n",
       "    </tr>\n",
       "    <tr>\n",
       "      <th>2</th>\n",
       "      <td>3</td>\n",
       "      <td>2</td>\n",
       "      <td>0</td>\n",
       "      <td>0</td>\n",
       "      <td>54</td>\n",
       "      <td>40</td>\n",
       "      <td>12</td>\n",
       "      <td>19</td>\n",
       "      <td>34</td>\n",
       "      <td>9</td>\n",
       "      <td>27</td>\n",
       "      <td>19</td>\n",
       "      <td>38</td>\n",
       "      <td>18</td>\n",
       "    </tr>\n",
       "    <tr>\n",
       "      <th>3</th>\n",
       "      <td>4</td>\n",
       "      <td>3</td>\n",
       "      <td>0</td>\n",
       "      <td>0</td>\n",
       "      <td>34</td>\n",
       "      <td>15</td>\n",
       "      <td>38</td>\n",
       "      <td>29</td>\n",
       "      <td>10</td>\n",
       "      <td>16</td>\n",
       "      <td>35</td>\n",
       "      <td>18</td>\n",
       "      <td>30</td>\n",
       "      <td>50</td>\n",
       "    </tr>\n",
       "    <tr>\n",
       "      <th>4</th>\n",
       "      <td>5</td>\n",
       "      <td>2</td>\n",
       "      <td>0</td>\n",
       "      <td>0</td>\n",
       "      <td>33</td>\n",
       "      <td>32</td>\n",
       "      <td>44</td>\n",
       "      <td>48</td>\n",
       "      <td>11</td>\n",
       "      <td>9</td>\n",
       "      <td>31</td>\n",
       "      <td>0</td>\n",
       "      <td>16</td>\n",
       "      <td>30</td>\n",
       "    </tr>\n",
       "  </tbody>\n",
       "</table>\n",
       "</div>"
      ],
      "text/plain": [
       "   ImageId  PinNumber  VisualResultType  Result  logic1  logic2  logic3  \\\n",
       "0        1          1                 0       0      14      14      36   \n",
       "1        2          2                 0       0      62      34      26   \n",
       "2        3          2                 0       0      54      40      12   \n",
       "3        4          3                 0       0      34      15      38   \n",
       "4        5          2                 0       0      33      32      44   \n",
       "\n",
       "   logic4  logic5  logic6  logic7  logic8  logic9  logic10  \n",
       "0      40      19       9       7      21      35       26  \n",
       "1      27      12      37      27      52      54       33  \n",
       "2      19      34       9      27      19      38       18  \n",
       "3      29      10      16      35      18      30       50  \n",
       "4      48      11       9      31       0      16       30  "
      ]
     },
     "execution_count": 14,
     "metadata": {},
     "output_type": "execute_result"
    }
   ],
   "source": [
    "df.head()"
   ]
  },
  {
   "cell_type": "code",
   "execution_count": 15,
   "metadata": {},
   "outputs": [],
   "source": [
    "X = df.iloc[:, (df.columns.get_loc('Result')+1):]\n",
    "y = df.iloc[:, (df.columns.get_loc('Result'))]\n",
    "label = X.columns"
   ]
  },
  {
   "cell_type": "code",
   "execution_count": 16,
   "metadata": {},
   "outputs": [],
   "source": [
    "# t-SNE\n",
    "from sklearn.manifold import TSNE"
   ]
  },
  {
   "cell_type": "code",
   "execution_count": 17,
   "metadata": {},
   "outputs": [
    {
     "data": {
      "text/plain": [
       "<matplotlib.legend.Legend at 0x1a1f5d5668>"
      ]
     },
     "execution_count": 17,
     "metadata": {},
     "output_type": "execute_result"
    },
    {
     "data": {
      "image/png": "[encoded data removed]",
      "text/plain": [
       "<Figure size 432x288 with 1 Axes>"
      ]
     },
     "metadata": {
      "needs_background": "light"
     },
     "output_type": "display_data"
    }
   ],
   "source": [
    "X_reduced = TSNE(n_components=2, random_state=0).fit_transform(X)\n",
    "df_reduced = pd.DataFrame(X_reduced, columns=['x', 'y'])\n",
    "df2 = pd.concat([df, df_reduced], axis=1)\n",
    "lst2 = df2.columns.tolist()\n",
    "lst2.remove('x')\n",
    "lst2.remove('y')\n",
    "lst2.insert(0, 'x')\n",
    "lst2.insert(1, 'y')\n",
    "df2[lst2].to_csv('./output.csv', index=False)\n",
    "x0, y0 = X_reduced[y==0, 0], X_reduced[y==0, 1]\n",
    "x1, y1 = X_reduced[y==1, 0], X_reduced[y==1, 1]\n",
    "plt.figure()\n",
    "plt.scatter(x0, y0, label='OK')\n",
    "plt.scatter(x1, y1, label='NG')\n",
    "plt.title('t-SNE')\n",
    "plt.legend(loc='best')"
   ]
  },
  {
   "cell_type": "code",
   "execution_count": 23,
   "metadata": {},
   "outputs": [
    {
     "data": {
      "text/html": [
       "<div>\n",
       "<style scoped>\n",
       "    .dataframe tbody tr th:only-of-type {\n",
       "        vertical-align: middle;\n",
       "    }\n",
       "\n",
       "    .dataframe tbody tr th {\n",
       "        vertical-align: top;\n",
       "    }\n",
       "\n",
       "    .dataframe thead th {\n",
       "        text-align: right;\n",
       "    }\n",
       "</style>\n",
       "<table border=\"1\" class=\"dataframe\">\n",
       "  <thead>\n",
       "    <tr style=\"text-align: right;\">\n",
       "      <th></th>\n",
       "      <th>x</th>\n",
       "      <th>y</th>\n",
       "      <th>ImageId</th>\n",
       "      <th>PinNumber</th>\n",
       "      <th>VisualResultType</th>\n",
       "      <th>Result</th>\n",
       "      <th>logic1</th>\n",
       "      <th>logic2</th>\n",
       "      <th>logic3</th>\n",
       "      <th>logic4</th>\n",
       "      <th>logic5</th>\n",
       "      <th>logic6</th>\n",
       "      <th>logic7</th>\n",
       "      <th>logic8</th>\n",
       "      <th>logic9</th>\n",
       "      <th>logic10</th>\n",
       "    </tr>\n",
       "  </thead>\n",
       "  <tbody>\n",
       "    <tr>\n",
       "      <th>0</th>\n",
       "      <td>7.416788</td>\n",
       "      <td>-10.769449</td>\n",
       "      <td>1</td>\n",
       "      <td>1</td>\n",
       "      <td>0</td>\n",
       "      <td>0</td>\n",
       "      <td>14</td>\n",
       "      <td>14</td>\n",
       "      <td>36</td>\n",
       "      <td>40</td>\n",
       "      <td>19</td>\n",
       "      <td>9</td>\n",
       "      <td>7</td>\n",
       "      <td>21</td>\n",
       "      <td>35</td>\n",
       "      <td>26</td>\n",
       "    </tr>\n",
       "    <tr>\n",
       "      <th>1</th>\n",
       "      <td>5.399107</td>\n",
       "      <td>-5.642412</td>\n",
       "      <td>2</td>\n",
       "      <td>2</td>\n",
       "      <td>0</td>\n",
       "      <td>0</td>\n",
       "      <td>62</td>\n",
       "      <td>34</td>\n",
       "      <td>26</td>\n",
       "      <td>27</td>\n",
       "      <td>12</td>\n",
       "      <td>37</td>\n",
       "      <td>27</td>\n",
       "      <td>52</td>\n",
       "      <td>54</td>\n",
       "      <td>33</td>\n",
       "    </tr>\n",
       "    <tr>\n",
       "      <th>2</th>\n",
       "      <td>7.038887</td>\n",
       "      <td>-8.757418</td>\n",
       "      <td>3</td>\n",
       "      <td>2</td>\n",
       "      <td>0</td>\n",
       "      <td>0</td>\n",
       "      <td>54</td>\n",
       "      <td>40</td>\n",
       "      <td>12</td>\n",
       "      <td>19</td>\n",
       "      <td>34</td>\n",
       "      <td>9</td>\n",
       "      <td>27</td>\n",
       "      <td>19</td>\n",
       "      <td>38</td>\n",
       "      <td>18</td>\n",
       "    </tr>\n",
       "    <tr>\n",
       "      <th>3</th>\n",
       "      <td>6.970800</td>\n",
       "      <td>-5.978512</td>\n",
       "      <td>4</td>\n",
       "      <td>3</td>\n",
       "      <td>0</td>\n",
       "      <td>0</td>\n",
       "      <td>34</td>\n",
       "      <td>15</td>\n",
       "      <td>38</td>\n",
       "      <td>29</td>\n",
       "      <td>10</td>\n",
       "      <td>16</td>\n",
       "      <td>35</td>\n",
       "      <td>18</td>\n",
       "      <td>30</td>\n",
       "      <td>50</td>\n",
       "    </tr>\n",
       "    <tr>\n",
       "      <th>4</th>\n",
       "      <td>9.215796</td>\n",
       "      <td>-6.899699</td>\n",
       "      <td>5</td>\n",
       "      <td>2</td>\n",
       "      <td>0</td>\n",
       "      <td>0</td>\n",
       "      <td>33</td>\n",
       "      <td>32</td>\n",
       "      <td>44</td>\n",
       "      <td>48</td>\n",
       "      <td>11</td>\n",
       "      <td>9</td>\n",
       "      <td>31</td>\n",
       "      <td>0</td>\n",
       "      <td>16</td>\n",
       "      <td>30</td>\n",
       "    </tr>\n",
       "  </tbody>\n",
       "</table>\n",
       "</div>"
      ],
      "text/plain": [
       "          x          y  ImageId  PinNumber  VisualResultType  Result  logic1  \\\n",
       "0  7.416788 -10.769449        1          1                 0       0      14   \n",
       "1  5.399107  -5.642412        2          2                 0       0      62   \n",
       "2  7.038887  -8.757418        3          2                 0       0      54   \n",
       "3  6.970800  -5.978512        4          3                 0       0      34   \n",
       "4  9.215796  -6.899699        5          2                 0       0      33   \n",
       "\n",
       "   logic2  logic3  logic4  logic5  logic6  logic7  logic8  logic9  logic10  \n",
       "0      14      36      40      19       9       7      21      35       26  \n",
       "1      34      26      27      12      37      27      52      54       33  \n",
       "2      40      12      19      34       9      27      19      38       18  \n",
       "3      15      38      29      10      16      35      18      30       50  \n",
       "4      32      44      48      11       9      31       0      16       30  "
      ]
     },
     "execution_count": 23,
     "metadata": {},
     "output_type": "execute_result"
    }
   ],
   "source": [
    "df2[lst2].head()"
   ]
  },
  {
   "cell_type": "code",
   "execution_count": 18,
   "metadata": {},
   "outputs": [],
   "source": [
    "# Random Forest\n",
    "from sklearn.ensemble import RandomForestClassifier"
   ]
  },
  {
   "cell_type": "code",
   "execution_count": 19,
   "metadata": {},
   "outputs": [
    {
     "name": "stderr",
     "output_type": "stream",
     "text": [
      "/anaconda3/lib/python3.7/site-packages/sklearn/ensemble/forest.py:246: FutureWarning: The default value of n_estimators will change from 10 in version 0.20 to 100 in 0.22.\n",
      "  \"10 in version 0.20 to 100 in 0.22.\", FutureWarning)\n"
     ]
    }
   ],
   "source": [
    "rf_clf = RandomForestClassifier(random_state=0)\n",
    "rf_clf.fit(X, y)\n",
    "rf_importances = rf_clf.feature_importances_\n",
    "rf_indices=np.argsort(rf_importances)"
   ]
  },
  {
   "cell_type": "code",
   "execution_count": 20,
   "metadata": {},
   "outputs": [],
   "source": [
    "# XGBoost\n",
    "from xgboost.sklearn import XGBClassifier"
   ]
  },
  {
   "cell_type": "code",
   "execution_count": 21,
   "metadata": {},
   "outputs": [],
   "source": [
    "xgb_clf = XGBClassifier()\n",
    "xgb_clf.fit(X, y)\n",
    "xgb_importances = xgb_clf.feature_importances_\n",
    "xgb_indices = np.argsort(xgb_importances)"
   ]
  },
  {
   "cell_type": "code",
   "execution_count": 22,
   "metadata": {},
   "outputs": [
    {
     "data": {
      "image/png": "[encoded data removed]",
      "text/plain": [
       "<Figure size 936x216 with 2 Axes>"
      ]
     },
     "metadata": {
      "needs_background": "light"
     },
     "output_type": "display_data"
    }
   ],
   "source": [
    "num=10\n",
    "upper = max(max(rf_importances), max(xgb_importances))*1.1\n",
    "fig, ax = plt.subplots(1, 2, figsize=(13, (0.3*num)))\n",
    "ax[0].barh(range(num),\n",
    "           rf_importances[rf_indices][(len(rf_importances)-num):len(rf_importances)],\n",
    "           color='limegreen')\n",
    "ax[0].set_yticks(range(num))\n",
    "ax[0].set_yticklabels(label[rf_indices][(len(rf_indices)-num):len(rf_indices)])\n",
    "ax[0].set_title('Random Forest')\n",
    "ax[0].set_xlim(0, upper)\n",
    "ax[1].barh(range(num),\n",
    "           xgb_importances[xgb_indices][(len(xgb_importances)-num):len(xgb_indices)],\n",
    "           color='pink')\n",
    "ax[1].set_yticks(range(num))\n",
    "ax[1].set_yticklabels(label[xgb_indices][(len(xgb_indices)-num):len(xgb_indices)])\n",
    "ax[1].set_title('XGBoost')\n",
    "ax[1].set_xlim(0, upper)\n",
    "plt.tight_layout()\n",
    "plt.show()"
   ]
  }
 ],
 "metadata": {
  "kernelspec": {
   "display_name": "Python 3",
   "language": "python",
   "name": "python3"
  },
  "language_info": {
   "codemirror_mode": {
    "name": "ipython",
    "version": 3
   },
   "file_extension": ".py",
   "mimetype": "text/x-python",
   "name": "python",
   "nbconvert_exporter": "python",
   "pygments_lexer": "ipython3",
   "version": "3.7.3"
  }
 },
 "nbformat": 4,
 "nbformat_minor": 2
}
